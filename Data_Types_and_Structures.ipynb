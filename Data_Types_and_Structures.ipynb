{
  "nbformat": 4,
  "nbformat_minor": 0,
  "metadata": {
    "colab": {
      "provenance": []
    },
    "kernelspec": {
      "name": "python3",
      "display_name": "Python 3"
    },
    "language_info": {
      "name": "python"
    }
  },
  "cells": [
    {
      "cell_type": "markdown",
      "source": [
        "# **Data Types and Structures**\n",
        "\n",
        "# ***Assignment Questions and Answers ***\n"
      ],
      "metadata": {
        "id": "T1w1WPQHQhM4"
      }
    },
    {
      "cell_type": "markdown",
      "source": [
        "# **Data Types and Structures Questions**"
      ],
      "metadata": {
        "id": "iGdJmWbAR0u9"
      }
    },
    {
      "cell_type": "markdown",
      "source": [
        "1. What are data structures, and why are they important?\n",
        "\n",
        "**What are Data Structures?**\n",
        "\n",
        "Data Structures are ways to organize, store, and manage data in a computer so that we can use it efficiently.\n",
        "\n",
        "A data structure is a smart way of arranging data to make your program faster, cleaner, and smarter.\n",
        "Just like you wouldn’t carry water in a basket, in coding, you use the right structure for the right task.\n",
        "\n",
        "\n",
        "\n",
        " **Why are Data Structures Important?**\n",
        "\n",
        "1. Efficiency\n",
        "Good data structures make your code faster and use less memory.\n",
        "\n",
        "2. Problem Solving\n",
        "Many real-world problems (like searching, sorting, and pathfinding) become much easier with the right structure.\n",
        "\n",
        "3. Clean Code\n",
        "Helps you write code that’s easier to understand, maintain, and extend.\n",
        "\n",
        "4. Essential for Interviews & Jobs\n",
        "Companies like Google, Amazon, and the Big Four love asking questions on data structures because they show how well you think.\n",
        "\n",
        "\n"
      ],
      "metadata": {
        "id": "cwsTilEJUCvI"
      }
    },
    {
      "cell_type": "markdown",
      "source": [
        "# 2. Explain the difference between mutable and immutable data types with examples\n",
        "\n",
        "**Mutable Data Types**\n",
        "\n",
        "These can be changed after creation.\n",
        "\n",
        "Examples:          list, dict (dictionary), set, bytearray\n",
        "\n",
        "**Immutable Data Types**\n",
        "\n",
        "These cannot be changed after creation.\n",
        "\n",
        "Examples:       int,   float,   str (string), tuple, bool, frozenset, bytes\n",
        "\n"
      ],
      "metadata": {
        "id": "568Oc8B7XSy6"
      }
    },
    {
      "cell_type": "markdown",
      "source": [
        "# 3. What are the main differences between lists and tuples in Python?\n",
        "\n",
        "1. Mutability\n",
        "\n",
        "List:  Mutable → Can be changed (add, remove, or modify elements).\n",
        "\n",
        "Tuple:  Immutable → Cannot be changed once created.\n",
        "\n",
        "2. Syntax\n",
        "\n",
        "List: Uses square brackets []\n",
        "\n",
        "Tuple: Uses parentheses ()\n",
        "\n",
        "3. Performance\n",
        "\n",
        "Tuple: Slightly faster than list (because it's immutable and uses less memory).\n",
        "\n",
        "List: Slightly slower in comparison.\n",
        "\n",
        "4. Methods Available\n",
        "\n",
        "List: Has more built-in methods like append(), remove(), pop(), etc.\n",
        "\n",
        "Tuple: Very few methods, only count() and index()."
      ],
      "metadata": {
        "id": "lycw_4Be078V"
      }
    },
    {
      "cell_type": "markdown",
      "source": [
        "# 4. Describe how dictionaries store data.\n",
        "\n",
        "Dictionaries in Python store data using a key-value pair system."
      ],
      "metadata": {
        "id": "qbLuXGvX3u41"
      }
    },
    {
      "cell_type": "markdown",
      "source": [
        "# 5. Why might you use a set instead of a list in Python?\n",
        "We might use a set instead of a list in python as set does not allow duplication of elements."
      ],
      "metadata": {
        "id": "6xX8vFwyehWk"
      }
    },
    {
      "cell_type": "markdown",
      "source": [
        "# 6. What is a string in Python, and how is it different from a list?\n",
        "A string is a sequence of characters used to represent text.\n",
        "\n",
        "It is different from a list as strings is immutable and not enclosed by Square brackets."
      ],
      "metadata": {
        "id": "SSrTLHbmgQJB"
      }
    },
    {
      "cell_type": "markdown",
      "source": [
        "# 7. How do tuples ensure data integrity in Python?\n",
        "Tuples in Python are designed to be immutable, which means once created, they cannot be changed.\n",
        "This immutability is what helps protect and ensure data integrity.\n",
        "\n"
      ],
      "metadata": {
        "id": "JksQ1iUyh8A_"
      }
    },
    {
      "cell_type": "markdown",
      "source": [
        "# 8. What is a hash table, and how does it relate to dictionaries in Python?\n",
        "A hash table is a data structure that stores data in key-value pairs, and allows for very fast lookup, insertion, and deletion.\n",
        "\n",
        "It relate to dictionaries in python as dictionaries are implemented using hash tables."
      ],
      "metadata": {
        "id": "nfdMFeEeizzi"
      }
    },
    {
      "cell_type": "markdown",
      "source": [
        "# 9. Can lists contain different data types in Python?\n",
        "Yes, lists in Python can contain different data types.\n",
        "\n",
        "Python lists are heterogeneous, which means you can mix integers, strings, floats, booleans, other lists, dictionaries, or even custom objects in a single list."
      ],
      "metadata": {
        "id": "8yAICptBxE9s"
      }
    },
    {
      "cell_type": "markdown",
      "source": [
        "# 10. Explain why strings are immutable in Python.\n",
        "Strings are immutable in Python because once a string is created, it cannot be changed — any operation that seems to modify a string will actually create a new string.\n",
        "\n",
        "**Why are strings immutable?**\n",
        "\n",
        "1. Efficiency and Memory Optimization\n",
        "\n",
        "2. Hashing for Dictionary Keys\n",
        "\n",
        "3. Safety and Predictability"
      ],
      "metadata": {
        "id": "u40hTh1LxbdA"
      }
    },
    {
      "cell_type": "markdown",
      "source": [
        "# 11. What advantages do dictionaries offer over lists for certain tasks?\n",
        "Dictionaries offer several key advantages over lists for certain tasks, especially when it comes to fast lookups and organizing data by keys.\n",
        "\n"
      ],
      "metadata": {
        "id": "ufiLTsj7zjdM"
      }
    },
    {
      "cell_type": "markdown",
      "source": [
        "# 12. Describe a scenario where using a tuple would be preferable over a list.\n",
        "Tuples are preferable when data should remain constant, such as in database record, coordinate, or configuration settings. Using tuples ensures that the data cannot be modified, maintaining the integrity of the stored values."
      ],
      "metadata": {
        "id": "2m1Vc6n72bL5"
      }
    },
    {
      "cell_type": "markdown",
      "source": [
        "# 13. How do sets handle duplicate values in Python?\n",
        "In Python, sets automatically remove duplicate values.\n",
        "\n",
        " Key Behavior:\n",
        "\n",
        " 1. A set is an unordered collection of unique elements.\n",
        "\n",
        " 2. If you add duplicates, Python will keep only one copy."
      ],
      "metadata": {
        "id": "MSi8W3sg5E_q"
      }
    },
    {
      "cell_type": "markdown",
      "source": [
        "# 14. How does the “in” keyword work differently for lists and dictionaries?\n",
        "The in keyword is used in both lists and dictionaries, but it behaves differently depending on the data structure.\n",
        "\n",
        "**In a List:**\n",
        "\n",
        " in checks if a value exists among the elements.\n",
        "\n",
        " **In a Dictionary:**\n",
        "\n",
        "in checks only the keys, not the values."
      ],
      "metadata": {
        "id": "_U1zSln16wtl"
      }
    },
    {
      "cell_type": "markdown",
      "source": [
        "# 15. Can you modify the elements of a tuple? Explain why or why not.\n",
        "No, element of a tuple can be modified because tuple are immutable.Once Created, their contents are fixed, making them suitable for data that should remain unchanged throughout the program."
      ],
      "metadata": {
        "id": "KCMEc02Q7yUi"
      }
    },
    {
      "cell_type": "markdown",
      "source": [
        "# 16. What is a nested dictionary, and give an example of its use case?\n",
        "A nested dictionary is a dictionary inside another dictionary.It is Used for Storing heirarchical data, such as a directory of user Where each user has their personal data stored as a dictionary of properties.\n"
      ],
      "metadata": {
        "id": "5Dnkw0z-_41w"
      }
    },
    {
      "cell_type": "markdown",
      "source": [
        "# 17. Describe the time complexity of accessing elements in a dictionary.\n",
        "The time complexity of accessing elements in a dictionary in Python is:\n",
        "\n",
        "1. Average Case: O(1)\n",
        "\n",
        "2. Worst Case: O(n)\n"
      ],
      "metadata": {
        "id": "kmJZI688CUr7"
      }
    },
    {
      "cell_type": "markdown",
      "source": [
        "# 18. In what situations are lists preferred over dictionaries?\n",
        "Lists are preferred over dictionaries in Python when the situation involves:\n",
        "\n",
        "1. Ordered Data Without Key-Value Pairs\n",
        "\n",
        "2. Accessing Elements by Position\n",
        "\n",
        "3. Maintaining Duplicates\n",
        "\n",
        "4. Simple Iteration Tasks\n",
        "\n",
        "5. Small Data or When Structure Is Simple"
      ],
      "metadata": {
        "id": "raJOD0DbhO7g"
      }
    },
    {
      "cell_type": "markdown",
      "source": [
        "# 19.  Why are dictionaries considered unordered, and how does that affect data retrieval?\n",
        "Dictionaries in python are considered unordered because they do not maintain a specific sequence for their key and values. However, this does not affect data retrieval as long as retrievel is done by keys, as dictionaries provide direct access to value through hasting"
      ],
      "metadata": {
        "id": "VxER_ITCiyAJ"
      }
    },
    {
      "cell_type": "markdown",
      "source": [
        "# 20. Explain the difference between a list and a dictionary in terms of data retrieval.\n",
        "A list is an ordered collection of element, where element are accessed by using there index (position) and here time complexity is O(1) (constain time). A Dictionary is an unorderd collection of key value pairs, where  item are accessed  using a unique key (not position) and here time complexity is on average is O(1)"
      ],
      "metadata": {
        "id": "mbl9n_iBkiNz"
      }
    },
    {
      "cell_type": "markdown",
      "source": [
        "# **Practical Questions**"
      ],
      "metadata": {
        "id": "7CSj1ak2neZ4"
      }
    },
    {
      "cell_type": "markdown",
      "source": [
        "# 1. Write a code to create a string with your name and print it."
      ],
      "metadata": {
        "id": "ClZIPgdDon5o"
      }
    },
    {
      "cell_type": "code",
      "source": [
        "my_name = \"Md Tahir Ali\"\n",
        "print(my_name)"
      ],
      "metadata": {
        "colab": {
          "base_uri": "https://localhost:8080/"
        },
        "id": "yKjJY52couxy",
        "outputId": "d3f2dc2a-d695-4266-9018-d5caf6cab118"
      },
      "execution_count": null,
      "outputs": [
        {
          "output_type": "stream",
          "name": "stdout",
          "text": [
            "Md Tahir Ali\n"
          ]
        }
      ]
    },
    {
      "cell_type": "markdown",
      "source": [
        "# 2. Write a code to find the length of the string \"Hello World\""
      ],
      "metadata": {
        "id": "BFzY3VjYpCvS"
      }
    },
    {
      "cell_type": "code",
      "source": [
        "String = \"Hello World\"\n",
        "len(String)"
      ],
      "metadata": {
        "colab": {
          "base_uri": "https://localhost:8080/"
        },
        "id": "_XiSEKMIrIVO",
        "outputId": "52904f15-1922-4e52-a6cc-63b169b1ea82"
      },
      "execution_count": null,
      "outputs": [
        {
          "output_type": "execute_result",
          "data": {
            "text/plain": [
              "11"
            ]
          },
          "metadata": {},
          "execution_count": 5
        }
      ]
    },
    {
      "cell_type": "markdown",
      "source": [
        "# 3. Write a code to slice the first 3 characters from the string \"Python Programming\"."
      ],
      "metadata": {
        "id": "K5INL_DoreCW"
      }
    },
    {
      "cell_type": "code",
      "source": [
        "string = \"python programming\"\n",
        "slice = string[:3]\n",
        "print(slice)"
      ],
      "metadata": {
        "id": "GBNrzraYrTy6",
        "colab": {
          "base_uri": "https://localhost:8080/"
        },
        "outputId": "32976fd9-32d5-4002-eee2-7830a49ede7b"
      },
      "execution_count": null,
      "outputs": [
        {
          "output_type": "stream",
          "name": "stdout",
          "text": [
            "pyt\n"
          ]
        }
      ]
    },
    {
      "cell_type": "markdown",
      "source": [
        "# 4. Write a code to convert the string \"hello\" to uppercase."
      ],
      "metadata": {
        "id": "-30O9GCF5T_J"
      }
    },
    {
      "cell_type": "code",
      "source": [
        "string = \"hello\"\n",
        "string.upper()\n"
      ],
      "metadata": {
        "colab": {
          "base_uri": "https://localhost:8080/",
          "height": 36
        },
        "id": "5W-WTqqA5BqB",
        "outputId": "9dcda2ed-e909-42aa-af86-38e9753b9866"
      },
      "execution_count": null,
      "outputs": [
        {
          "output_type": "execute_result",
          "data": {
            "text/plain": [
              "'HELLO'"
            ],
            "application/vnd.google.colaboratory.intrinsic+json": {
              "type": "string"
            }
          },
          "metadata": {},
          "execution_count": 4
        }
      ]
    },
    {
      "cell_type": "markdown",
      "source": [
        "# 5. Write a code to replace the word \"apple\" with \"orange\" in the string \"I like apple\"."
      ],
      "metadata": {
        "id": "w3hvyhx36HFs"
      }
    },
    {
      "cell_type": "code",
      "source": [
        "fruits = \"I like apple\"\n",
        "fruits.replace(\"apple\",\"orange\")"
      ],
      "metadata": {
        "colab": {
          "base_uri": "https://localhost:8080/",
          "height": 36
        },
        "id": "SvpoK4975uwq",
        "outputId": "6f31b788-d2e2-4e37-fcf4-983ae55f80f9"
      },
      "execution_count": null,
      "outputs": [
        {
          "output_type": "execute_result",
          "data": {
            "text/plain": [
              "'I like orange'"
            ],
            "application/vnd.google.colaboratory.intrinsic+json": {
              "type": "string"
            }
          },
          "metadata": {},
          "execution_count": 6
        }
      ]
    },
    {
      "cell_type": "markdown",
      "source": [
        "# 6. Write a code to create a list with numbers 1 to 5 and print it."
      ],
      "metadata": {
        "id": "90e_dHDt7AO5"
      }
    },
    {
      "cell_type": "code",
      "source": [
        "list = [1, 2, 3, 4, 5]\n",
        "print(list)"
      ],
      "metadata": {
        "colab": {
          "base_uri": "https://localhost:8080/"
        },
        "id": "3BMCebid67Wv",
        "outputId": "d7b892c1-0cc5-4111-8df9-633ff08c04d4"
      },
      "execution_count": null,
      "outputs": [
        {
          "output_type": "stream",
          "name": "stdout",
          "text": [
            "[1, 2, 3, 4, 5]\n"
          ]
        }
      ]
    },
    {
      "cell_type": "markdown",
      "source": [
        "# 7. Write a code to append the number 10 to the list [1, 2, 3, 4]."
      ],
      "metadata": {
        "id": "UlKQh8EX7XQ7"
      }
    },
    {
      "cell_type": "code",
      "source": [
        "list = [1, 2, 3, 4]\n",
        "list.append(10)\n",
        "print(list)"
      ],
      "metadata": {
        "colab": {
          "base_uri": "https://localhost:8080/"
        },
        "id": "79KD7-uT7Szc",
        "outputId": "bac331e0-6eae-4011-819d-eb47b0c931f0"
      },
      "execution_count": null,
      "outputs": [
        {
          "output_type": "stream",
          "name": "stdout",
          "text": [
            "[1, 2, 3, 4, 10]\n"
          ]
        }
      ]
    },
    {
      "cell_type": "markdown",
      "source": [
        "# 8. Write a code to remove the number 3 from the list [1, 2, 3, 4, 5]."
      ],
      "metadata": {
        "id": "uvDMPbMw7tre"
      }
    },
    {
      "cell_type": "code",
      "source": [
        "list = [1, 2, 3, 4, 5]\n",
        "list.remove(3)\n",
        "print(list)"
      ],
      "metadata": {
        "colab": {
          "base_uri": "https://localhost:8080/"
        },
        "id": "Gi7RVsVN7ouM",
        "outputId": "ea7ec6fe-8e3f-4195-dd05-e964dfd85f5f"
      },
      "execution_count": null,
      "outputs": [
        {
          "output_type": "stream",
          "name": "stdout",
          "text": [
            "[1, 2, 4, 5]\n"
          ]
        }
      ]
    },
    {
      "cell_type": "markdown",
      "source": [
        "# 9. Write a code to access the second element in the list ['a', 'b', 'c', 'd']."
      ],
      "metadata": {
        "id": "trklxP038BtU"
      }
    },
    {
      "cell_type": "code",
      "source": [
        "list = ['a','b','c','d']\n",
        "print(list[1])"
      ],
      "metadata": {
        "colab": {
          "base_uri": "https://localhost:8080/"
        },
        "id": "ICaqkyVo78Dc",
        "outputId": "42b8b198-9c86-4021-b15b-a0316a05d23d"
      },
      "execution_count": null,
      "outputs": [
        {
          "output_type": "stream",
          "name": "stdout",
          "text": [
            "b\n"
          ]
        }
      ]
    },
    {
      "cell_type": "markdown",
      "source": [
        "# 10. Write a code to reverse the list [10, 20, 30, 40, 50]."
      ],
      "metadata": {
        "id": "fhvxsjRS8mz6"
      }
    },
    {
      "cell_type": "code",
      "source": [
        "list = [10, 20, 30, 40, 50]\n",
        "list.reverse()\n",
        "print(list)"
      ],
      "metadata": {
        "colab": {
          "base_uri": "https://localhost:8080/"
        },
        "id": "AzlGGiQT8ebw",
        "outputId": "5e1bfb7b-290d-4f4b-afd4-f54f4bdca69d"
      },
      "execution_count": null,
      "outputs": [
        {
          "output_type": "stream",
          "name": "stdout",
          "text": [
            "[50, 40, 30, 20, 10]\n"
          ]
        }
      ]
    },
    {
      "cell_type": "markdown",
      "source": [
        "# 11. Write a code to create a tuple with the elements 100, 200, 300 and print it."
      ],
      "metadata": {
        "id": "XcmYV4CZ9Abk"
      }
    },
    {
      "cell_type": "code",
      "source": [
        "tuple = (100, 200, 300)\n",
        "print(tuple)"
      ],
      "metadata": {
        "colab": {
          "base_uri": "https://localhost:8080/"
        },
        "id": "NlXkZW_J8-eR",
        "outputId": "09c345b3-2f59-4b97-e715-7b8d5c3c928e"
      },
      "execution_count": null,
      "outputs": [
        {
          "output_type": "stream",
          "name": "stdout",
          "text": [
            "(100, 200, 300)\n"
          ]
        }
      ]
    },
    {
      "cell_type": "markdown",
      "source": [
        "# 12. Write a code to access the second-to-last element of the tuple ('red', 'green', 'blue', 'yellow')."
      ],
      "metadata": {
        "id": "UL0UC_XE9d6u"
      }
    },
    {
      "cell_type": "code",
      "source": [
        "tuple = ('red', 'green', 'blue', 'yellow')\n",
        "print(tuple[1:])\n"
      ],
      "metadata": {
        "colab": {
          "base_uri": "https://localhost:8080/"
        },
        "id": "i_3XS-Fd9Sum",
        "outputId": "0fe3f317-2ccf-48cf-e15d-eab502e9e437"
      },
      "execution_count": null,
      "outputs": [
        {
          "output_type": "stream",
          "name": "stdout",
          "text": [
            "('green', 'blue', 'yellow')\n"
          ]
        }
      ]
    },
    {
      "cell_type": "markdown",
      "source": [
        "# 13.  Write a code to find the minimum number in the tuple (10, 20, 5, 15)."
      ],
      "metadata": {
        "id": "AiI1yYus-qaQ"
      }
    },
    {
      "cell_type": "code",
      "source": [
        "num  = (10, 20, 5, 15)\n",
        "min(num)"
      ],
      "metadata": {
        "colab": {
          "base_uri": "https://localhost:8080/"
        },
        "id": "RFBgZoFx-Gn2",
        "outputId": "f13f0c69-fc3f-411c-de63-315ac3e116f4"
      },
      "execution_count": null,
      "outputs": [
        {
          "output_type": "execute_result",
          "data": {
            "text/plain": [
              "5"
            ]
          },
          "metadata": {},
          "execution_count": 22
        }
      ]
    },
    {
      "cell_type": "markdown",
      "source": [
        "# 14. Write a code to find the index of the element \"cat\" in the tuple ('dog', 'cat', 'rabbit')."
      ],
      "metadata": {
        "id": "UWC6ahQGAfqh"
      }
    },
    {
      "cell_type": "code",
      "source": [
        "tuple = ('dog', 'cat', 'rabbit')\n",
        "tuple.index('cat')"
      ],
      "metadata": {
        "colab": {
          "base_uri": "https://localhost:8080/"
        },
        "id": "GB7LTbnuAK95",
        "outputId": "aae6158f-2bc8-4e02-f373-0893e616344a"
      },
      "execution_count": null,
      "outputs": [
        {
          "output_type": "execute_result",
          "data": {
            "text/plain": [
              "1"
            ]
          },
          "metadata": {},
          "execution_count": 24
        }
      ]
    },
    {
      "cell_type": "markdown",
      "source": [
        "# 15. Write a code to create a tuple containing three different fruits and check if \"kiwi\" is in it."
      ],
      "metadata": {
        "id": "xY6Qe2L5BFFy"
      }
    },
    {
      "source": [
        "fruits = ('apple', 'banana', 'kiwi')\n",
        "'kiwi' in fruits"
      ],
      "cell_type": "code",
      "metadata": {
        "colab": {
          "base_uri": "https://localhost:8080/"
        },
        "id": "vC90WFXfB15u",
        "outputId": "46a1e16c-b3af-4f95-f9b2-64fa0f722780"
      },
      "execution_count": null,
      "outputs": [
        {
          "output_type": "execute_result",
          "data": {
            "text/plain": [
              "True"
            ]
          },
          "metadata": {},
          "execution_count": 28
        }
      ]
    },
    {
      "cell_type": "markdown",
      "source": [
        "# 16. Write a code to create a set with the elements 'a', 'b', 'c' and print it."
      ],
      "metadata": {
        "id": "x8Ni1dqMCP7Y"
      }
    },
    {
      "cell_type": "code",
      "source": [
        "my_set = {'a', 'b', 'c'}\n",
        "print(my_set)\n"
      ],
      "metadata": {
        "colab": {
          "base_uri": "https://localhost:8080/"
        },
        "id": "2-gycresBsUu",
        "outputId": "e7d66d97-9500-41bc-c8c9-9a0fb5799a0e"
      },
      "execution_count": null,
      "outputs": [
        {
          "output_type": "stream",
          "name": "stdout",
          "text": [
            "{'b', 'c', 'a'}\n"
          ]
        }
      ]
    },
    {
      "cell_type": "markdown",
      "source": [
        "# 17. Write a code to clear all elements from the set {1, 2, 3, 4, 5}."
      ],
      "metadata": {
        "id": "6hRHhzAACyBn"
      }
    },
    {
      "cell_type": "code",
      "source": [
        "my_set = {1, 2, 3, 4, 5}\n",
        "my_set.clear()\n",
        "print(my_set)"
      ],
      "metadata": {
        "colab": {
          "base_uri": "https://localhost:8080/"
        },
        "id": "Tcik7fHXCvHP",
        "outputId": "e3d0c6b2-deb1-4cdb-b22c-0f75fc29b230"
      },
      "execution_count": null,
      "outputs": [
        {
          "output_type": "stream",
          "name": "stdout",
          "text": [
            "set()\n"
          ]
        }
      ]
    },
    {
      "cell_type": "markdown",
      "source": [
        "# 18. Write a code to remove the element 4 from the set {1, 2, 3, 4}."
      ],
      "metadata": {
        "id": "I4DsrdS_DSWg"
      }
    },
    {
      "cell_type": "code",
      "source": [
        "set = {1, 2, 3, 4}\n",
        "set.remove(4)\n",
        "print(set)"
      ],
      "metadata": {
        "colab": {
          "base_uri": "https://localhost:8080/"
        },
        "id": "m1W0tburDPAM",
        "outputId": "7c63d1f0-c083-4061-e4e1-d0d11df890e0"
      },
      "execution_count": null,
      "outputs": [
        {
          "output_type": "stream",
          "name": "stdout",
          "text": [
            "{1, 2, 3}\n"
          ]
        }
      ]
    },
    {
      "cell_type": "markdown",
      "source": [
        "# 19.  Write a code to find the union of two sets {1, 2, 3} and {3, 4, 5}."
      ],
      "metadata": {
        "id": "OuVgBJRyHQ1Z"
      }
    },
    {
      "cell_type": "code",
      "source": [
        "set1 = {1, 2, 3}\n",
        "set2 = {3, 4, 5}\n",
        "set1 | set2\n"
      ],
      "metadata": {
        "colab": {
          "base_uri": "https://localhost:8080/"
        },
        "id": "5Q-hwP-iEEeb",
        "outputId": "4e15ae81-7e40-4906-a9e7-88a4b7d6905e"
      },
      "execution_count": null,
      "outputs": [
        {
          "output_type": "execute_result",
          "data": {
            "text/plain": [
              "{1, 2, 3, 4, 5}"
            ]
          },
          "metadata": {},
          "execution_count": 33
        }
      ]
    },
    {
      "cell_type": "markdown",
      "source": [
        "# 20.  Write a code to find the intersection of two sets {1, 2, 3} and {2, 3, 4}."
      ],
      "metadata": {
        "id": "m1l4VRJPIa7X"
      }
    },
    {
      "cell_type": "code",
      "source": [
        "set1 = {1, 2, 3}\n",
        "set2 = {2, 3, 4}\n",
        "set1 & set2"
      ],
      "metadata": {
        "colab": {
          "base_uri": "https://localhost:8080/"
        },
        "id": "gupV_F3pH-A7",
        "outputId": "068da832-cf5a-417e-9b01-cba927a385e2"
      },
      "execution_count": null,
      "outputs": [
        {
          "output_type": "execute_result",
          "data": {
            "text/plain": [
              "{2, 3}"
            ]
          },
          "metadata": {},
          "execution_count": 34
        }
      ]
    },
    {
      "cell_type": "markdown",
      "source": [
        "# 21. Write a code to create a dictionary with the keys \"name\", \"age\", and \"city\", and print it."
      ],
      "metadata": {
        "id": "EPAUq4wJIzWx"
      }
    },
    {
      "cell_type": "code",
      "source": [
        "dict = {\"name\": \"Tahir\", \"age\": \"25\", \"city\": \"Ghazipur\"}\n",
        "print(dict)"
      ],
      "metadata": {
        "colab": {
          "base_uri": "https://localhost:8080/"
        },
        "id": "l8TPO1EtIujF",
        "outputId": "9583ac70-3b94-433f-e4c8-f320aa2a92bd"
      },
      "execution_count": null,
      "outputs": [
        {
          "output_type": "stream",
          "name": "stdout",
          "text": [
            "{'name': 'Tahir', 'age': '25', 'city': 'Ghazipur'}\n"
          ]
        }
      ]
    },
    {
      "cell_type": "markdown",
      "source": [
        "# 22. Write a code to add a new key-value pair \"country\": \"USA\" to the dictionary {'name': 'John', 'age': 25}."
      ],
      "metadata": {
        "id": "-URPpqC3KTLy"
      }
    },
    {
      "cell_type": "code",
      "source": [
        "dict = {'name': 'john', 'age': 25}\n",
        "dict['country'] = 'USA'\n",
        "print(dict)"
      ],
      "metadata": {
        "colab": {
          "base_uri": "https://localhost:8080/"
        },
        "id": "9OT6of3WJufC",
        "outputId": "c21b95d5-4591-44f1-a1ec-04a53016ef28"
      },
      "execution_count": null,
      "outputs": [
        {
          "output_type": "stream",
          "name": "stdout",
          "text": [
            "{'name': 'john', 'age': 25, 'country': 'USA'}\n"
          ]
        }
      ]
    },
    {
      "cell_type": "markdown",
      "source": [
        "# 23. Write a code to access the value associated with the key \"name\" in the dictionary {'name': 'Alice', 'age': 30}."
      ],
      "metadata": {
        "id": "yAwgXsvNLOya"
      }
    },
    {
      "cell_type": "code",
      "source": [
        "dict = {'name': 'Alice', 'age': 30}\n",
        "dict.get('name')"
      ],
      "metadata": {
        "colab": {
          "base_uri": "https://localhost:8080/",
          "height": 36
        },
        "id": "PRWYkyn2LDyU",
        "outputId": "21313ab9-96b6-4164-9c54-415df0f654cf"
      },
      "execution_count": null,
      "outputs": [
        {
          "output_type": "execute_result",
          "data": {
            "text/plain": [
              "'Alice'"
            ],
            "application/vnd.google.colaboratory.intrinsic+json": {
              "type": "string"
            }
          },
          "metadata": {},
          "execution_count": 40
        }
      ]
    },
    {
      "cell_type": "markdown",
      "source": [
        "# 24. Write a code to remove the key \"age\" from the dictionary {'name': 'Bob', 'age': 22, 'city': 'New York'}."
      ],
      "metadata": {
        "id": "4AhSOI2nMgXb"
      }
    },
    {
      "cell_type": "code",
      "source": [
        "dict = {'name': 'Bob', 'age': 22, 'city': 'New York'}\n",
        "dict.pop('age')\n",
        "print(dict)"
      ],
      "metadata": {
        "colab": {
          "base_uri": "https://localhost:8080/"
        },
        "id": "S5WV3KIEMd7X",
        "outputId": "e93e0594-42f0-4a15-ff7c-4c055303ffc4"
      },
      "execution_count": null,
      "outputs": [
        {
          "output_type": "stream",
          "name": "stdout",
          "text": [
            "{'name': 'Bob', 'city': 'New York'}\n"
          ]
        }
      ]
    },
    {
      "cell_type": "markdown",
      "source": [
        "# 25. Write a code to check if the key \"city\" exists in the dictionary {'name': 'Alice', 'city': 'Paris'}."
      ],
      "metadata": {
        "id": "gSbBt5k3NqST"
      }
    },
    {
      "cell_type": "code",
      "source": [
        "dict = {'name': 'Alice', 'City': 'paris'}\n",
        "'City' in dict\n"
      ],
      "metadata": {
        "colab": {
          "base_uri": "https://localhost:8080/"
        },
        "id": "ftv7jVm-M_eP",
        "outputId": "d5170fe7-2bd3-4279-9cb2-49c16180f957"
      },
      "execution_count": null,
      "outputs": [
        {
          "output_type": "execute_result",
          "data": {
            "text/plain": [
              "True"
            ]
          },
          "metadata": {},
          "execution_count": 49
        }
      ]
    },
    {
      "cell_type": "markdown",
      "source": [
        "# 26. Write a code to create a list, a tuple, and a dictionary, and print them all."
      ],
      "metadata": {
        "id": "EQoW3uSAOYuw"
      }
    },
    {
      "cell_type": "code",
      "source": [
        "list = [1, 2, 3, 4, 5]\n",
        "tuple = ('Apple', 'Banana', 'Orange')\n",
        "dict = {\"name\": \"Tahir\", \"age\": \"25\", \"city\": \"ghazipur\"}\n",
        "print(list)\n",
        "print(tuple)\n",
        "print(dict)"
      ],
      "metadata": {
        "colab": {
          "base_uri": "https://localhost:8080/"
        },
        "id": "nc2xFPsJOHM-",
        "outputId": "21108cfd-14fc-4ac2-9be4-53ac7f85c66d"
      },
      "execution_count": null,
      "outputs": [
        {
          "output_type": "stream",
          "name": "stdout",
          "text": [
            "[1, 2, 3, 4, 5]\n",
            "('Apple', 'Banana', 'Orange')\n",
            "{'name': 'Tahir', 'age': '25', 'city': 'ghazipur'}\n"
          ]
        }
      ]
    },
    {
      "cell_type": "markdown",
      "source": [
        "# 27. Write a code to create a list of 5 random numbers between 1 and 100, sort it in ascending order, and print the result.(replaced)\n"
      ],
      "metadata": {
        "id": "cUdhzNyDQJdV"
      }
    },
    {
      "source": [
        "import random\n",
        "my_list = []\n",
        "for _ in range(5):\n",
        "    my_list.append(random.randint(1, 100))\n",
        "my_list.sort()\n",
        "print(my_list)"
      ],
      "cell_type": "code",
      "metadata": {
        "colab": {
          "base_uri": "https://localhost:8080/"
        },
        "id": "2dFniLmSRyfX",
        "outputId": "30a3e390-3016-4063-d8af-c52b6c70f736"
      },
      "execution_count": null,
      "outputs": [
        {
          "output_type": "stream",
          "name": "stdout",
          "text": [
            "[21, 27, 35, 90, 91]\n"
          ]
        }
      ]
    },
    {
      "cell_type": "markdown",
      "source": [
        "# 28. Write a code to create a list with strings and print the element at the third index."
      ],
      "metadata": {
        "id": "y2S5mRrSTDDO"
      }
    },
    {
      "cell_type": "code",
      "source": [
        "list = ['Apple', 'Banana', 'orange', 'Mango', 'Grapes']\n",
        "print(list[2])"
      ],
      "metadata": {
        "colab": {
          "base_uri": "https://localhost:8080/"
        },
        "id": "5wEKjEqWRuz1",
        "outputId": "1ea6974e-92f6-4e8e-d4d4-bb3a1f299cd2"
      },
      "execution_count": null,
      "outputs": [
        {
          "output_type": "stream",
          "name": "stdout",
          "text": [
            "orange\n"
          ]
        }
      ]
    },
    {
      "cell_type": "markdown",
      "source": [
        "# 29.  Write a code to combine two dictionaries into one and print the result."
      ],
      "metadata": {
        "id": "9oxWuVXXUeN3"
      }
    },
    {
      "cell_type": "code",
      "source": [
        "dict1 = {'a': '1', 'b': '2'}\n",
        "dict2 = {'c': '3', 'd': '4'}\n",
        "dict1.update(dict2)\n",
        "print(dict1)"
      ],
      "metadata": {
        "colab": {
          "base_uri": "https://localhost:8080/"
        },
        "id": "mCiO9VGcUbgU",
        "outputId": "7fa81dac-d47d-4ea5-f522-d2f994c9b1af"
      },
      "execution_count": null,
      "outputs": [
        {
          "output_type": "stream",
          "name": "stdout",
          "text": [
            "{'a': '1', 'b': '2', 'c': '3', 'd': '4'}\n"
          ]
        }
      ]
    },
    {
      "cell_type": "markdown",
      "source": [
        "# 30. Write a code to convert a list of strings into a set."
      ],
      "metadata": {
        "id": "WjD6LowmW_MR"
      }
    },
    {
      "source": [
        "my_list = ['Apple', 'Banana', 'cherry', 'apple']\n",
        "my_set = set(my_list)\n",
        "print(my_set)"
      ],
      "cell_type": "code",
      "metadata": {
        "colab": {
          "base_uri": "https://localhost:8080/"
        },
        "id": "N4mHDMY5nM7-",
        "outputId": "9feddc2b-068a-4034-bc44-cdf4c9d65bd1"
      },
      "execution_count": 78,
      "outputs": [
        {
          "output_type": "stream",
          "name": "stdout",
          "text": [
            "{'Apple', 'Banana', 'cherry', 'apple'}\n"
          ]
        }
      ]
    },
    {
      "cell_type": "code",
      "source": [],
      "metadata": {
        "id": "wEkH8X7Jl5Ui"
      },
      "execution_count": null,
      "outputs": []
    }
  ]
}